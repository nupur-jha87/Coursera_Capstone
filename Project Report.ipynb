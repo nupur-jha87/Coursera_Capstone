{
 "cells": [
  {
   "cell_type": "markdown",
   "metadata": {},
   "source": [
    "## Recommender system to open a Grocery store"
   ]
  },
  {
   "cell_type": "markdown",
   "metadata": {},
   "source": [
    "### Created By - Nupur Jha(Data Architect)"
   ]
  },
  {
   "cell_type": "markdown",
   "metadata": {},
   "source": [
    "###### I am working with data from past 5 years as a Data Architect. To expand my area of knowledge I opted for Data Science and hence enrolled for this course."
   ]
  },
  {
   "cell_type": "markdown",
   "metadata": {},
   "source": [
    "#### Part 1. Problem Description:- "
   ]
  },
  {
   "cell_type": "markdown",
   "metadata": {},
   "source": [
    "##### I am a new Grocery store contractor in Toronto and would like to setup my grocery store in the areas which are crowded, has most liked venues. This will help me to setup my store where people will walk in more and would be ready to buy grocery for their home on regular basis."
   ]
  },
  {
   "cell_type": "markdown",
   "metadata": {},
   "source": [
    "#### Part 2. Data I need:- "
   ]
  },
  {
   "cell_type": "markdown",
   "metadata": {},
   "source": [
    "##### I would need geo-locational information about Toronto borough and its neighborhoods which included its latitude and longtitude values.\n",
    "##### I will need data about different venues in different neighborhoods of Toronto. In order to gain that information I will use \"Foursquare\" locational information. For example there is a venue in one of the neighborhoods. As basic information, we can obtain its precise latitude and longitude and also its distance from the center of the neighborhood. But we are looking for advanced information such as the category of that venue and whether this venue is a popular one in its category or total liking is greater than average of this venue."
   ]
  },
  {
   "cell_type": "markdown",
   "metadata": {},
   "source": [
    "#### Part 3. Methodology:-"
   ]
  },
  {
   "cell_type": "markdown",
   "metadata": {},
   "source": [
    "##### (a) Data Cleaning--> I will perform data wragling to remove unwanted rows from the list. \n",
    "##### (b) Finding Neighborhoods inside \"Toronto\"--> I will use Postal Codes of different regions inside Toronto to find the list of neighborhoods. Entire data is present at https://en.wikipedia.org/wiki/List_of_postal_codes_of_Canada:_M and then process the table inside this site. \n",
    "##### (c) Retrieving Locational Data from Foursquare for Each Venue in Every Neighborhood--> I will connect to the Foursquare API to gather information about venues inside each and every neighborhood. For each neighborhood, we have chosen the radius to be 500 meter.\n",
    "##### (d) Data Processing and DataFrome creation for All the Venues inside the Toronto--> Post data collection we will extract the features like Venue Category. After this stage, the column \"Venue's Category\" wil be One-hot encoded and different venues will have different feature-columns. After On-hot encoding we will integrate all restaurant columns to one column \"Total Restaurants\" and all food joint columns to \"Total Joints\" column.\n",
    "##### (e) Machine Learning Techniques (K-Means Clustering)--> I will cluster neighborhoods via K-means clustering method. I have taken 5 clusters which will cover the complexity of the problem. After clustering dataset will be updated column will be created representing the group for each neighborhood.\n",
    "##### (f) Results--> Comparing centers of clusters and comparing them for their \"Total Restaurants\" and their \"Total Joints\". The group which its center has the highest \"Total Sum\" will be the best recommendation to the Grocery store contractor.\n",
    "##### (g) Best recommended neighbor--> {'Neighborhood': 'Central Toronto', 'Postal Code': 'M4N', 'Neighborhood Latitude': 43.728020,'Neighborhood Longitude':-79.388790 }"
   ]
  },
  {
   "cell_type": "code",
   "execution_count": null,
   "metadata": {},
   "outputs": [],
   "source": []
  }
 ],
 "metadata": {
  "kernelspec": {
   "display_name": "Python 3",
   "language": "python",
   "name": "python3"
  },
  "language_info": {
   "codemirror_mode": {
    "name": "ipython",
    "version": 3
   },
   "file_extension": ".py",
   "mimetype": "text/x-python",
   "name": "python",
   "nbconvert_exporter": "python",
   "pygments_lexer": "ipython3",
   "version": "3.6.8"
  }
 },
 "nbformat": 4,
 "nbformat_minor": 2
}
